{
 "cells": [
  {
   "attachments": {},
   "cell_type": "markdown",
   "metadata": {
    "nbgrader": {
     "grade": false,
     "grade_id": "cell-29437832a46a1f5c",
     "locked": true,
     "schema_version": 3,
     "solution": false
    }
   },
   "source": [
    "### Colab activity 12.1:  Introduction to K-Nearest Neighbors\n",
    "\n",
    "\n",
    "**Expected Time: 60 Minutes**\n",
    "\n",
    "\n",
    "\n",
    "This activity is meant to introduce you to the `KNeighborsClassifier` from scikit-learn.  You will build a few different versions, changing values for `k` and examining performance.  You will also preprocess your data by scaling so as to improve the performance of your classifier. "
   ]
  },
  {
   "cell_type": "markdown",
   "metadata": {
    "nbgrader": {
     "grade": false,
     "grade_id": "cell-8af1761a5d8a8126",
     "locked": true,
     "schema_version": 3,
     "solution": false
    }
   },
   "source": [
    "#### Index\n",
    "\n",
    "- [Problem 1](#-Problem-1)\n",
    "- [Problem 2](#-Problem-2)\n",
    "- [Problem 3](#-Problem-3)\n",
    "- [Problem 4](#-Problem-4)\n",
    "- [Problem 5](#-Problem-5)\n",
    "- [Problem 6](#-Problem-6)"
   ]
  },
  {
   "cell_type": "code",
   "execution_count": 1,
   "metadata": {},
   "outputs": [],
   "source": [
    "import pandas as pd\n",
    "import numpy as np\n",
    "import matplotlib.pyplot as plt\n",
    "\n",
    "from sklearn.preprocessing import StandardScaler, OneHotEncoder\n",
    "from sklearn.pipeline import Pipeline\n",
    "from sklearn.compose import make_column_transformer\n",
    "from sklearn.neighbors import KNeighborsClassifier\n",
    "from sklearn.model_selection import train_test_split"
   ]
  },
  {
   "cell_type": "code",
   "execution_count": 2,
   "metadata": {},
   "outputs": [],
   "source": [
    "default = pd.read_csv('data/default.csv')"
   ]
  },
  {
   "cell_type": "code",
   "execution_count": 3,
   "metadata": {},
   "outputs": [
    {
     "data": {
      "text/html": [
       "<div>\n",
       "<style scoped>\n",
       "    .dataframe tbody tr th:only-of-type {\n",
       "        vertical-align: middle;\n",
       "    }\n",
       "\n",
       "    .dataframe tbody tr th {\n",
       "        vertical-align: top;\n",
       "    }\n",
       "\n",
       "    .dataframe thead th {\n",
       "        text-align: right;\n",
       "    }\n",
       "</style>\n",
       "<table border=\"1\" class=\"dataframe\">\n",
       "  <thead>\n",
       "    <tr style=\"text-align: right;\">\n",
       "      <th></th>\n",
       "      <th>Unnamed: 0</th>\n",
       "      <th>default</th>\n",
       "      <th>student</th>\n",
       "      <th>balance</th>\n",
       "      <th>income</th>\n",
       "    </tr>\n",
       "  </thead>\n",
       "  <tbody>\n",
       "    <tr>\n",
       "      <th>0</th>\n",
       "      <td>1</td>\n",
       "      <td>No</td>\n",
       "      <td>No</td>\n",
       "      <td>729.526495</td>\n",
       "      <td>44361.625074</td>\n",
       "    </tr>\n",
       "    <tr>\n",
       "      <th>1</th>\n",
       "      <td>2</td>\n",
       "      <td>No</td>\n",
       "      <td>Yes</td>\n",
       "      <td>817.180407</td>\n",
       "      <td>12106.134700</td>\n",
       "    </tr>\n",
       "    <tr>\n",
       "      <th>2</th>\n",
       "      <td>3</td>\n",
       "      <td>No</td>\n",
       "      <td>No</td>\n",
       "      <td>1073.549164</td>\n",
       "      <td>31767.138947</td>\n",
       "    </tr>\n",
       "    <tr>\n",
       "      <th>3</th>\n",
       "      <td>4</td>\n",
       "      <td>No</td>\n",
       "      <td>No</td>\n",
       "      <td>529.250605</td>\n",
       "      <td>35704.493935</td>\n",
       "    </tr>\n",
       "    <tr>\n",
       "      <th>4</th>\n",
       "      <td>5</td>\n",
       "      <td>No</td>\n",
       "      <td>No</td>\n",
       "      <td>785.655883</td>\n",
       "      <td>38463.495879</td>\n",
       "    </tr>\n",
       "  </tbody>\n",
       "</table>\n",
       "</div>"
      ],
      "text/plain": [
       "   Unnamed: 0 default student      balance        income\n",
       "0           1      No      No   729.526495  44361.625074\n",
       "1           2      No     Yes   817.180407  12106.134700\n",
       "2           3      No      No  1073.549164  31767.138947\n",
       "3           4      No      No   529.250605  35704.493935\n",
       "4           5      No      No   785.655883  38463.495879"
      ]
     },
     "execution_count": 3,
     "metadata": {},
     "output_type": "execute_result"
    }
   ],
   "source": [
    "default.head()"
   ]
  },
  {
   "attachments": {},
   "cell_type": "markdown",
   "metadata": {
    "nbgrader": {
     "grade": false,
     "grade_id": "cell-4faab2084873db33",
     "locked": true,
     "schema_version": 3,
     "solution": false
    }
   },
   "source": [
    "[Back to top](#-Index)\n",
    "\n",
    "### Problem 1\n",
    "\n",
    "#### Determine `X` and `y`\n",
    "\n",
    "\n",
    "Define `X` as all columns except for `default` and `y` as `default` below."
   ]
  },
  {
   "cell_type": "code",
   "execution_count": 5,
   "metadata": {
    "nbgrader": {
     "grade": false,
     "grade_id": "cell-9aba0ab3f7898056",
     "locked": false,
     "schema_version": 3,
     "solution": true
    }
   },
   "outputs": [
    {
     "name": "stdout",
     "output_type": "stream",
     "text": [
      "  student      balance        income\n",
      "0      No   729.526495  44361.625074\n",
      "1     Yes   817.180407  12106.134700\n",
      "2      No  1073.549164  31767.138947\n",
      "3      No   529.250605  35704.493935\n",
      "4      No   785.655883  38463.495879\n",
      "==============\n",
      "0    No\n",
      "1    No\n",
      "2    No\n",
      "3    No\n",
      "4    No\n",
      "Name: default, dtype: object\n"
     ]
    }
   ],
   "source": [
    "\n",
    "\n",
    "X = default[['student', 'balance', 'income']]\n",
    "y = default['default']\n",
    "\n",
    "\n",
    "\n",
    "# Answer check\n",
    "print(X.head())\n",
    "print('==============')\n",
    "print(y.head())"
   ]
  },
  {
   "attachments": {},
   "cell_type": "markdown",
   "metadata": {
    "nbgrader": {
     "grade": false,
     "grade_id": "cell-f1fd0040b6af4bcc",
     "locked": true,
     "schema_version": 3,
     "solution": false
    }
   },
   "source": [
    "[Back to top](#-Index)\n",
    "\n",
    "### Problem 2\n",
    "\n",
    "#### Create train/test split\n",
    "\n",
    "\n",
    "\n",
    "Use the `train_test_split` function to create a train test split on `X` and `y` with 25% of the data assigned as the test set.  Set `random_state = 42` to assure correct grading."
   ]
  },
  {
   "cell_type": "code",
   "execution_count": 40,
   "metadata": {
    "nbgrader": {
     "grade": false,
     "grade_id": "cell-b96d0d394835021c",
     "locked": false,
     "schema_version": 3,
     "solution": true
    }
   },
   "outputs": [
    {
     "name": "stdout",
     "output_type": "stream",
     "text": [
      "(7500, 3)\n",
      "(2500, 3)\n"
     ]
    },
    {
     "data": {
      "text/html": [
       "<div>\n",
       "<style scoped>\n",
       "    .dataframe tbody tr th:only-of-type {\n",
       "        vertical-align: middle;\n",
       "    }\n",
       "\n",
       "    .dataframe tbody tr th {\n",
       "        vertical-align: top;\n",
       "    }\n",
       "\n",
       "    .dataframe thead th {\n",
       "        text-align: right;\n",
       "    }\n",
       "</style>\n",
       "<table border=\"1\" class=\"dataframe\">\n",
       "  <thead>\n",
       "    <tr style=\"text-align: right;\">\n",
       "      <th></th>\n",
       "      <th>student</th>\n",
       "      <th>balance</th>\n",
       "      <th>income</th>\n",
       "    </tr>\n",
       "  </thead>\n",
       "  <tbody>\n",
       "    <tr>\n",
       "      <th>4901</th>\n",
       "      <td>Yes</td>\n",
       "      <td>465.583629</td>\n",
       "      <td>15625.633529</td>\n",
       "    </tr>\n",
       "    <tr>\n",
       "      <th>4375</th>\n",
       "      <td>No</td>\n",
       "      <td>357.996305</td>\n",
       "      <td>30217.021287</td>\n",
       "    </tr>\n",
       "    <tr>\n",
       "      <th>6698</th>\n",
       "      <td>Yes</td>\n",
       "      <td>1230.714628</td>\n",
       "      <td>18581.274613</td>\n",
       "    </tr>\n",
       "    <tr>\n",
       "      <th>9805</th>\n",
       "      <td>No</td>\n",
       "      <td>1260.154869</td>\n",
       "      <td>35733.465854</td>\n",
       "    </tr>\n",
       "    <tr>\n",
       "      <th>1101</th>\n",
       "      <td>No</td>\n",
       "      <td>850.548099</td>\n",
       "      <td>44501.915038</td>\n",
       "    </tr>\n",
       "  </tbody>\n",
       "</table>\n",
       "</div>"
      ],
      "text/plain": [
       "     student      balance        income\n",
       "4901     Yes   465.583629  15625.633529\n",
       "4375      No   357.996305  30217.021287\n",
       "6698     Yes  1230.714628  18581.274613\n",
       "9805      No  1260.154869  35733.465854\n",
       "1101      No   850.548099  44501.915038"
      ]
     },
     "execution_count": 40,
     "metadata": {},
     "output_type": "execute_result"
    }
   ],
   "source": [
    "\n",
    "\n",
    "X_train, X_test, y_train, y_test = train_test_split(X, y, test_size=0.25, random_state=42)\n",
    "\n",
    "\n",
    "\n",
    "# Answer check\n",
    "print(X_train.shape)\n",
    "print(X_test.shape)\n",
    "\n",
    "X_train.head()"
   ]
  },
  {
   "attachments": {},
   "cell_type": "markdown",
   "metadata": {
    "nbgrader": {
     "grade": false,
     "grade_id": "cell-160bd9569a7b513e",
     "locked": true,
     "schema_version": 3,
     "solution": false
    }
   },
   "source": [
    "[Back to top](#-Index)\n",
    "\n",
    "### Problem 3\n",
    "\n",
    "#### Column transformer for encoding `student` and scaling `['balance', 'income']`\n",
    "\n",
    "\n",
    "\n",
    "Use the `make_column_transformer` to create a column transformer. Inside the `make_column_transformer` specify an instance of the `OneHotEncoder` transformer from scikit-learn. Inside `OneHotEncoder` set `drop` equal to `'if_binary'`. Apply this transformation to the `student` column. On the `remainder` columns, apply a `StandardScaler()` transformation.\n",
    "\n",
    " Assign your column transformer to `transformer` below.\n",
    "\n",
    "[Documentation for `make_column_transformer`](https://scikit-learn.org/stable/modules/generated/sklearn.compose.make_column_transformer.html)"
   ]
  },
  {
   "cell_type": "code",
   "execution_count": 7,
   "metadata": {
    "nbgrader": {
     "grade": false,
     "grade_id": "cell-b416c385629380d6",
     "locked": false,
     "schema_version": 3,
     "solution": true
    }
   },
   "outputs": [
    {
     "name": "stdout",
     "output_type": "stream",
     "text": [
      "ColumnTransformer(remainder=StandardScaler(),\n",
      "                  transformers=[('onehotencoder',\n",
      "                                 OneHotEncoder(drop='if_binary'),\n",
      "                                 ['student'])])\n"
     ]
    }
   ],
   "source": [
    "\n",
    "\n",
    "transformer = make_column_transformer((OneHotEncoder(drop='if_binary'), ['student']), remainder=StandardScaler())\n",
    "\n",
    "\n",
    "\n",
    "# Answer check\n",
    "print(transformer)"
   ]
  },
  {
   "attachments": {},
   "cell_type": "markdown",
   "metadata": {
    "nbgrader": {
     "grade": false,
     "grade_id": "cell-fd20a8040672b4a5",
     "locked": true,
     "schema_version": 3,
     "solution": false
    }
   },
   "source": [
    "[Back to top](#-Index)\n",
    "\n",
    "### Problem 4\n",
    "\n",
    "#### Pipeline with KNN and `n_neighbors = 5`\n",
    "\n",
    "\n",
    "\n",
    "Using your column `transformer` defined above, create a `Pipeline` named `fivepipe` below with steps `transform` and `knn` that transform your columns and subsequently build a KNN model using `KNeighborsClassifier()`.  \n",
    "\n",
    "Use the `fit` function to fit the pipe on the training data and use the `.score` method of the fit pipe to determine the accuracy on the test data.  Assign this to `fivepipe_acc` below."
   ]
  },
  {
   "cell_type": "code",
   "execution_count": null,
   "metadata": {
    "nbgrader": {
     "grade": false,
     "grade_id": "cell-10a7445b87caffd9",
     "locked": false,
     "schema_version": 3,
     "solution": true
    }
   },
   "outputs": [
    {
     "name": "stdout",
     "output_type": "stream",
     "text": [
      "0.968\n"
     ]
    }
   ],
   "source": [
    "# default k = 5\n",
    "fivepipe = Pipeline([('transform', transformer), ('knn', KNeighborsClassifier())]) # n_neighbors = 5 by default\n",
    "fivepipe.fit(X_train, y_train)\n",
    "fivepipe_acc = fivepipe.score(X_test, y_test)\n",
    "\n",
    "\n",
    "\n",
    "# Answer check\n",
    "print(fivepipe_acc)"
   ]
  },
  {
   "attachments": {},
   "cell_type": "markdown",
   "metadata": {
    "nbgrader": {
     "grade": false,
     "grade_id": "cell-f26e7aa7fc912fb0",
     "locked": true,
     "schema_version": 3,
     "solution": false
    }
   },
   "source": [
    "\n",
    "[Back to top](#-Index)\n",
    "\n",
    "### Problem 5\n",
    "\n",
    "#### Pipeline with `n_neighbors = 50`\n",
    "\n",
    "\n",
    "\n",
    "Using your column `transformer` defined above, create a `Pipeline` named `fiftypipe` below with steps `transform` and `knn` that transform your columns and subsequently build a KNN model using `KNeighborsClassifier()`. Build the KNN model with `n_neighbors = 50`\n",
    "\n",
    "Use the `fit` function to fit the pipe on the training data and use the `.score` method of the fit pipe to determine the accuracy on the test data.  Assign this to `fiftypipe_acc` below.\n"
   ]
  },
  {
   "cell_type": "code",
   "execution_count": 9,
   "metadata": {
    "nbgrader": {
     "grade": false,
     "grade_id": "cell-afa4622c85a5bc0e",
     "locked": false,
     "schema_version": 3,
     "solution": true
    }
   },
   "outputs": [
    {
     "name": "stdout",
     "output_type": "stream",
     "text": [
      "0.9712\n"
     ]
    }
   ],
   "source": [
    "\n",
    "# setting k = 50\n",
    "fiftypipe = Pipeline([('transform', transformer), ('knn', KNeighborsClassifier(n_neighbors = 50))])\n",
    "fiftypipe.fit(X_train, y_train)\n",
    "fiftypipe_acc = fiftypipe.score(X_test, y_test)\n",
    "\n",
    "\n",
    "\n",
    "# Answer check\n",
    "print(fiftypipe_acc)"
   ]
  },
  {
   "attachments": {},
   "cell_type": "markdown",
   "metadata": {
    "nbgrader": {
     "grade": false,
     "grade_id": "cell-7b9d286d60d84fb3",
     "locked": true,
     "schema_version": 3,
     "solution": false
    }
   },
   "source": [
    "[Back to top](#-Index)\n",
    "\n",
    "### Problem 6\n",
    "\n",
    "#### False Predictions\n",
    "\n",
    "\n",
    "Finally, compare the two pipelines based on the number of sum of the errors (FP+FN) -- those observations that the model predicted to default but incorrectly so. Assign these values as integers to `five_fp` and `fifty_fp`, respectively.   \n",
    "\n",
    "(Hint: Add up the predictions of X_test that are not equal to y_test)"
   ]
  },
  {
   "cell_type": "code",
   "execution_count": 10,
   "metadata": {
    "nbgrader": {
     "grade": false,
     "grade_id": "cell-28ae5ad90b1726e7",
     "locked": false,
     "schema_version": 3,
     "solution": true
    }
   },
   "outputs": [
    {
     "name": "stdout",
     "output_type": "stream",
     "text": [
      "Number of False Predictions with five neighbors: 80\n",
      "Number of False Predictions with fifty neighbors: 72\n"
     ]
    }
   ],
   "source": [
    "\n",
    "\n",
    "five_fp = sum(fivepipe.predict(X_test) != y_test)\n",
    "fifty_fp = sum(fiftypipe.predict(X_test) != y_test)\n",
    "\n",
    "\n",
    "\n",
    "# Answer check\n",
    "print(f'Number of False Predictions with five neighbors: {five_fp}')\n",
    "print(f'Number of False Predictions with fifty neighbors: {fifty_fp}')"
   ]
  },
  {
   "cell_type": "code",
   "execution_count": 11,
   "metadata": {},
   "outputs": [
    {
     "name": "stdout",
     "output_type": "stream",
     "text": [
      "Number of False Predictions with 100 neighbors: 72\n"
     ]
    }
   ],
   "source": [
    "# setting k = 100\n",
    "_100pipe = Pipeline([('transform', transformer), ('knn', KNeighborsClassifier(n_neighbors = 100))])\n",
    "_100pipe.fit(X_train, y_train)\n",
    "_100pipe_acc = _100pipe.score(X_test, y_test)\n",
    "\n",
    "_100_fp = sum(fiftypipe.predict(X_test) != y_test)\n",
    "\n",
    "print(f'Number of False Predictions with 100 neighbors: {_100_fp}')\n"
   ]
  },
  {
   "cell_type": "code",
   "execution_count": 29,
   "metadata": {},
   "outputs": [
    {
     "name": "stdout",
     "output_type": "stream",
     "text": [
      "Number of False Predictions with 100 neighbors: 68\n"
     ]
    }
   ],
   "source": [
    "# setting k = 18 -> manually check to be optimal\n",
    "_optimal_pipe = Pipeline([('transform', transformer), ('knn', KNeighborsClassifier(n_neighbors = 18))])\n",
    "_optimal_pipe.fit(X_train, y_train)\n",
    "_optimal_pipe_acc = _optimal_pipe.score(X_test, y_test)\n",
    "\n",
    "_optimal_fp = sum(_optimal_pipe.predict(X_test) != y_test)\n",
    "\n",
    "print(f'Number of False Predictions with 100 neighbors: {_optimal_fp}')\n"
   ]
  },
  {
   "cell_type": "code",
   "execution_count": 42,
   "metadata": {},
   "outputs": [],
   "source": [
    "# automate the calcualtion for determining the optimal k value\n",
    "from sklearn.metrics import accuracy_score\n",
    "\n",
    "def get_misclassification_rate_for_k(k, X_train_df, y_train):\n",
    "    model = KNeighborsClassifier(n_neighbors=k)\n",
    "    model.fit(X=X_train_df, y=y_train)\n",
    "    return 1 - accuracy_score(model.predict(X=X_train_df), y_train)"
   ]
  },
  {
   "cell_type": "code",
   "execution_count": 43,
   "metadata": {},
   "outputs": [],
   "source": [
    "# To make this work you have to convert they Yes/No values to 1 and 0 in the student and default columns of the training and test datasets\n",
    "k_range = range(1, 50)\n",
    "errors = [get_misclassification_rate_for_k(k, X_train, y_train) for k in k_range]\n",
    "print('Errors: {errors}')\n",
    "errors_and_ks = pd.DataFrame({'k': k_range, 'Misclassification Rate': errors})\n",
    "errors_and_ks"
   ]
  },
  {
   "cell_type": "code",
   "execution_count": 44,
   "metadata": {},
   "outputs": [],
   "source": [
    "# you can also use GridSearchCV to identify k with the lowest validation error\n",
    "# example show 5 fold cross validation\n",
    "model = KNeighborsClassifier()\n",
    "parameters_to_try = {'n_neighbors': np.array(range(1, len( pd.DataFrame(X_train) )))}\n",
    "\n",
    "from sklearn.model_selection import GridSearchCV\n",
    "model_finder = GridSearchCV(estimator=model,\n",
    "                            param_grid=parameters_to_try,\n",
    "                            scoring=\"accuracy\",\n",
    "                            cv=5\n",
    "                            )"
   ]
  },
  {
   "cell_type": "code",
   "execution_count": 47,
   "metadata": {},
   "outputs": [],
   "source": [
    "# model_finder.fit(X_train, y_train)"
   ]
  },
  {
   "cell_type": "code",
   "execution_count": null,
   "metadata": {},
   "outputs": [],
   "source": []
  }
 ],
 "metadata": {
  "celltoolbar": "Create Assignment",
  "kernelspec": {
   "display_name": "base",
   "language": "python",
   "name": "python3"
  },
  "language_info": {
   "codemirror_mode": {
    "name": "ipython",
    "version": 3
   },
   "file_extension": ".py",
   "mimetype": "text/x-python",
   "name": "python",
   "nbconvert_exporter": "python",
   "pygments_lexer": "ipython3",
   "version": "3.12.7"
  },
  "widgets": {
   "application/vnd.jupyter.widget-state+json": {
    "state": {},
    "version_major": 2,
    "version_minor": 0
   }
  }
 },
 "nbformat": 4,
 "nbformat_minor": 4
}
